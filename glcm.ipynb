{
 "cells": [
  {
   "cell_type": "markdown",
   "metadata": {},
   "source": [
    "## Descritor de Textura - Matriz de Co-Ocorrência de Níveis de Cinza"
   ]
  },
  {
   "cell_type": "markdown",
   "metadata": {},
   "source": [
    "<b>Importando as bibliotecas</b>"
   ]
  },
  {
   "cell_type": "code",
   "execution_count": null,
   "metadata": {},
   "outputs": [],
   "source": [
    "import glob as g\n",
    "import numpy as np\n",
    "from skimage.feature import greycomatrix, greycoprops\n",
    "from skimage.io import imread\n",
    "from skimage.color import rgb2gray"
   ]
  },
  {
   "cell_type": "code",
   "execution_count": null,
   "metadata": {},
   "outputs": [],
   "source": [
    "def geraSVMfile(rotulo, lista_feat, name_file, path_out, modo):\n",
    "    ''''''\n",
    "    arquivo = open(path_out + name_file, modo)\n",
    "    featureFile = str(rotulo) + \" \"\n",
    "    arquivo.write(featureFile)\n",
    "    for i in range(len(lista_feat)):\n",
    "        linha = str(str(i + 1) + \":\" + str(lista_feat[i]) + \" \")\n",
    "        #print('linha ', str(i + 1), \" = \", linha)\n",
    "        arquivo.write(linha)\n",
    "    arquivo.write('\\n')\n",
    "    arquivo.close()"
   ]
  },
  {
   "cell_type": "code",
   "execution_count": null,
   "metadata": {},
   "outputs": [],
   "source": [
    "def run_imagens(classe, lista, modo):\n",
    "    ''''''\n",
    "    for i in range(len(lista)):\n",
    "\n",
    "        name = lista[i].split('/')[-1].split('.')[0].split('g')[0]\n",
    "\n",
    "        img = imread(lista[i])\n",
    "        img = rgb2gray(img)*255\n",
    "        img = np.uint32(img)\n",
    "\n",
    "        matrix_coocurrence = greycomatrix(img, [1], [90], levels=img.max()+1, normed=False, symmetric=False)\n",
    "\n",
    "        feat = []\n",
    "\n",
    "        feat.append(greycoprops(matrix_coocurrence, 'contrast')[0][0])\n",
    "        feat.append(greycoprops(matrix_coocurrence, 'dissimilarity')[0][0])\n",
    "        feat.append(greycoprops(matrix_coocurrence, 'homogeneity')[0][0])\n",
    "        feat.append(greycoprops(matrix_coocurrence, 'energy')[0][0])\n",
    "        feat.append(greycoprops(matrix_coocurrence, 'correlation')[0][0])\n",
    "        feat.append(greycoprops(matrix_coocurrence, 'ASM')[0][0])\n",
    "\n",
    "        print('imagem ' + str(i) + ' da classe ' + str(classe) + ' foi processada ')\n",
    "        name = 'glcm.libsvm'\n",
    "        path_file = '/home/vitoria/Área de Trabalho/ICV/SINFO/'\n",
    "        geraSVMfile(rotulo=classe, lista_feat=feat, name_file=name, path_out=path_file, modo=modo)"
   ]
  },
  {
   "cell_type": "code",
   "execution_count": null,
   "metadata": {},
   "outputs": [],
   "source": [
    "def getImagens():\n",
    "\n",
    "    path_melanoma = '/home/vitoria/Área de Trabalho/ICV/SINFO/ph2/melanoma/'    \n",
    "    path_nmelanoma = '/home/vitoria/Área de Trabalho/ICV/SINFO/ph2/naomelanoma/'\n",
    "    extensao = '*.bmp'\n",
    "\n",
    "    lista_melanoma = g.glob(path_melanoma + extensao)\n",
    "    lista_nmelanoma = g.glob(path_nmelanoma + extensao)\n",
    "\n",
    "    run_imagens(classe=1, lista=lista_melanoma, modo='a')\n",
    "    run_imagens(classe=0, lista=lista_nmelanoma, modo='a')"
   ]
  },
  {
   "cell_type": "code",
   "execution_count": null,
   "metadata": {},
   "outputs": [],
   "source": [
    "if __name__ == '__main__':\n",
    "    ''''''\n",
    "    getImagens()"
   ]
  },
  {
   "cell_type": "code",
   "execution_count": null,
   "metadata": {},
   "outputs": [],
   "source": []
  }
 ],
 "metadata": {
  "kernelspec": {
   "display_name": "Python 3",
   "language": "python",
   "name": "python3"
  },
  "language_info": {
   "codemirror_mode": {
    "name": "ipython",
    "version": 3
   },
   "file_extension": ".py",
   "mimetype": "text/x-python",
   "name": "python",
   "nbconvert_exporter": "python",
   "pygments_lexer": "ipython3",
   "version": "3.7.3"
  }
 },
 "nbformat": 4,
 "nbformat_minor": 4
}
