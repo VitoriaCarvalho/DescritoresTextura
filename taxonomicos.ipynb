{
 "cells": [
  {
   "cell_type": "markdown",
   "metadata": {},
   "source": [
    "## Descritores de textura - Índices Taxonômicos"
   ]
  },
  {
   "cell_type": "markdown",
   "metadata": {},
   "source": [
    "<b>Importando as bibliotecas</b>"
   ]
  },
  {
   "cell_type": "code",
   "execution_count": null,
   "metadata": {},
   "outputs": [],
   "source": [
    "import glob as g\n",
    "from skimage.io import imread\n",
    "from skimage.color import rgb2gray\n",
    "import numpy as np"
   ]
  },
  {
   "cell_type": "code",
   "execution_count": null,
   "metadata": {},
   "outputs": [],
   "source": [
    "def geraSVMfile(rotulo, lista_feat, name_file, path_out, modo):\n",
    "    ''''''\n",
    "    arquivo = open(path_out + name_file, modo)\n",
    "    featureFile = str(rotulo) + \" \"\n",
    "    arquivo.write(featureFile)\n",
    "    for i in range(len(lista_feat)):\n",
    "        linha = str(str(i + 1) + \":\" + str(lista_feat[i]) + \" \")\n",
    "        print('linha ', str(i + 1), \" = \", linha)\n",
    "        arquivo.write(linha)\n",
    "    arquivo.write('\\n')\n",
    "    arquivo.close()"
   ]
  },
  {
   "cell_type": "code",
   "execution_count": null,
   "metadata": {},
   "outputs": [],
   "source": []
  },
  {
   "cell_type": "code",
   "execution_count": null,
   "metadata": {},
   "outputs": [],
   "source": [
    "def normalize(img):\n",
    "    for i in range(img.shape[0]):\n",
    "        for j in range(img.shape[1]):\n",
    "            img[i][j] = np.uint32(img[i][j])\n",
    "\n",
    "    return img"
   ]
  },
  {
   "cell_type": "code",
   "execution_count": null,
   "metadata": {},
   "outputs": [],
   "source": [
    "def run_imagens(classe, lista, modo):\n",
    "\n",
    "    somatorio = 0\n",
    "    MNND = 0.0\n",
    "    histograma = [0]*256\n",
    "    especie_ = 0\n",
    "\n",
    "    for i in range(len(lista)):\n",
    "        \n",
    "        name = lista[i].split('/')[-1].split('.')[0].split('g')[0]\n",
    "\n",
    "        img = imread(lista[i])\n",
    "        img = rgb2gray(img)*255\n",
    "        img = np.uint32(img)\n",
    "        \n",
    "        min = img.min()\n",
    "        sizeHistograma = 256\n",
    "        especie = 0\n",
    "\n",
    "        for b in range(img.shape[0]):\n",
    "            for c in range(img.shape[1]):\n",
    "                value = img[b][c]\n",
    "                if int(value) > 0:\n",
    "                    histograma[value] += 1\n",
    "\n",
    "        for d in range(0, sizeHistograma):\n",
    "            if int(histograma[d]) > 0:\n",
    "                especie_ += int(histograma[d])\n",
    "\n",
    "        for d in range(0, sizeHistograma):\n",
    "            if int(histograma[d]) > 0:\n",
    "                especie += 1#talvez\n",
    "\n",
    "        # diversidade taxonômica\n",
    "        somatorioDelta = 0.0\n",
    "        for x in range(0, sizeHistograma):\n",
    "            somatorio_initial = 0.0\n",
    "            for y in range(x + 1, sizeHistograma):\n",
    "                val = histograma[x] * histograma[y] * ((y - x) + 1)\n",
    "                somatorio_initial += val\n",
    "            somatorioDelta += somatorio_initial\n",
    "        deLta = somatorioDelta / (especie_ * (especie_ - 1) / 2)\n",
    "\n",
    "        # distinção taxonômica\n",
    "        somatorioDelta_ = 0.0\n",
    "        somatorioDelta_q = 0.0\n",
    "        for x in range(0, sizeHistograma):\n",
    "            somatorio_initial_ = 0.0\n",
    "            somatorio_initialq = 0.0\n",
    "            for y in range(x + 1, sizeHistograma):\n",
    "                val = histograma[x] * histograma[y] * ((y - x) + 1)\n",
    "                valq = histograma[x] * histograma[y]\n",
    "                somatorio_initial_ += val\n",
    "                somatorio_initialq += valq\n",
    "            somatorioDelta_ += somatorio_initial_\n",
    "            somatorioDelta_q += somatorio_initialq\n",
    "        delta_ = somatorioDelta_ / somatorioDelta_q\n",
    "\n",
    "        # lista de características\n",
    "        features = []\n",
    "        features.append(deLta)\n",
    "        features.append(delta_)\n",
    "\n",
    "        # Salvando as características no arquivo libsvm\n",
    "        print('imagem ' + str(i) + ' da classe ' + str(classe) + ' foi processada ')\n",
    "        name = 'taxonomicos.libsvm'\n",
    "        path_file = '/home/vitoria/Área de Trabalho/ICV/SINFO/'\n",
    "        geraSVMfile(rotulo=classe, lista_feat=features, name_file=name, path_out=path_file, modo=modo)\n"
   ]
  },
  {
   "cell_type": "code",
   "execution_count": null,
   "metadata": {},
   "outputs": [],
   "source": [
    "def getImagens():\n",
    "    #mudar os caminhos assim que eu conseguir a base.\n",
    "    path_melanoma = '/home/vitoria/Área de Trabalho/ICV/SINFO/ph2/melanoma/'\n",
    "    path_nmelanoma = '/home/vitoria/Área de Trabalho/ICV/SINFO/ph2/naomelanoma/'\n",
    "    extensao = '*.bmp'\n",
    "\n",
    "    lista_melanoma = g.glob(path_melanoma + extensao)\n",
    "    lista_nmelanoma = g.glob(path_nmelanoma + extensao)\n",
    "\n",
    "    run_imagens(classe=1, lista=lista_melanoma, modo='a')\n",
    "    run_imagens(classe=0, lista=lista_nmelanoma, modo='a')\n",
    "\n",
    "    #melanoma => classe 1\n",
    "    #não melanoma => classe 0"
   ]
  },
  {
   "cell_type": "code",
   "execution_count": null,
   "metadata": {},
   "outputs": [],
   "source": [
    "if __name__ == '__main__':\n",
    "    \n",
    "    getImagens()"
   ]
  },
  {
   "cell_type": "code",
   "execution_count": null,
   "metadata": {},
   "outputs": [],
   "source": []
  }
 ],
 "metadata": {
  "kernelspec": {
   "display_name": "Python 3",
   "language": "python",
   "name": "python3"
  },
  "language_info": {
   "codemirror_mode": {
    "name": "ipython",
    "version": 3
   },
   "file_extension": ".py",
   "mimetype": "text/x-python",
   "name": "python",
   "nbconvert_exporter": "python",
   "pygments_lexer": "ipython3",
   "version": "3.7.3"
  }
 },
 "nbformat": 4,
 "nbformat_minor": 4
}
