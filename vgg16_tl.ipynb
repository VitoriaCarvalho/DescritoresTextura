{
 "cells": [
  {
   "cell_type": "markdown",
   "metadata": {},
   "source": [
    "## Extraindo características com a VGG16, usando Transfer Learning"
   ]
  },
  {
   "cell_type": "markdown",
   "metadata": {},
   "source": [
    "<b>Importando as bibliotecas</b>"
   ]
  },
  {
   "cell_type": "code",
   "execution_count": null,
   "metadata": {},
   "outputs": [],
   "source": [
    "import matplotlib.pyplot as plt\n",
    "%matplotlib inline\n",
    "import os\n",
    "from keras.applications.vgg16 import VGG16, preprocess_input\n",
    "from keras.preprocessing import image\n",
    "from skimage.io import imread, imsave\n",
    "import numpy as np\n",
    "from keras.models import Model\n",
    "import pandas as pd\n",
    "import csv\n",
    "from glob import glob"
   ]
  },
  {
   "cell_type": "markdown",
   "metadata": {},
   "source": [
    "<b>Carregando os pesos da VGG16</b>"
   ]
  },
  {
   "cell_type": "code",
   "execution_count": null,
   "metadata": {},
   "outputs": [],
   "source": [
    "model = VGG16(weights='imagenet', include_top=True)"
   ]
  },
  {
   "cell_type": "markdown",
   "metadata": {},
   "source": [
    "<b>Visualizando as camadas da VGG16</b>"
   ]
  },
  {
   "cell_type": "code",
   "execution_count": null,
   "metadata": {},
   "outputs": [],
   "source": [
    "model.summary()"
   ]
  },
  {
   "cell_type": "markdown",
   "metadata": {},
   "source": [
    "<b>Utilizando apenas os pesos da última camada como características</b>"
   ]
  },
  {
   "cell_type": "code",
   "execution_count": null,
   "metadata": {},
   "outputs": [],
   "source": [
    "model = Model(input=model.input, output=model.get_layer('fc1').output)"
   ]
  },
  {
   "cell_type": "markdown",
   "metadata": {},
   "source": [
    "<b>Adquirindo as imagens da base</b>"
   ]
  },
  {
   "cell_type": "code",
   "execution_count": null,
   "metadata": {},
   "outputs": [],
   "source": [
    "path_melanoma = \"/home/vitoria/Área de Trabalho/ICV/SINFO/ph2/melanoma/\"\n",
    "path_naomelanoma = \"/home/vitoria/Área de Trabalho/ICV/SINFO/ph2/naomelanoma/\"\n",
    "\n",
    "lista_melanoma = glob(path_melanoma+'*.bmp')\n",
    "lista_naomelanoma = glob(path_naomelanoma+'*.bmp')"
   ]
  },
  {
   "cell_type": "markdown",
   "metadata": {},
   "source": [
    "<b>Aplicando os pesos da VGG16 nas imagens para obter as características</b>"
   ]
  },
  {
   "cell_type": "code",
   "execution_count": null,
   "metadata": {},
   "outputs": [],
   "source": [
    "features = []\n",
    "\n",
    "for i in range(len(lista_melanoma)):\n",
    "    img = image.load_img(lista_melanoma[i], target_size=(224, 224))\n",
    "    x = image.img_to_array(img)\n",
    "    \n",
    "    # Expande o array, inserindo um novo eixo\n",
    "    x = np.expand_dims(x, axis=0)\n",
    "    \n",
    "    # Adequa sua imagem ao formato exigido pelo modelo\n",
    "    x = preprocess_input(x)\n",
    "    \n",
    "    # Aplica a imagem no modelo e retorna as características extraídas\n",
    "    feature = model.predict(x).reshape(-1)\n",
    "    \n",
    "    # Transformando de np pra list\n",
    "    feature = list(feature)\n",
    "    \n",
    "    # Adicionando label na lista\n",
    "    feature.append(1)\n",
    "    \n",
    "    # Adicionando esse vetor de features na matriz de features\n",
    "    features.append(feature)\n",
    "    \n",
    "for i in range(len(lista_naomelanoma)):\n",
    "    img = image.load_img(lista_naomelanoma[i], target_size=(224, 224))\n",
    "    x = image.img_to_array(img)\n",
    "    x = np.expand_dims(x, axis=0)\n",
    "    x = preprocess_input(x)\n",
    "    feature = model.predict(x).reshape(-1)\n",
    "    feature = list(feature)\n",
    "    feature.append(0)\n",
    "    features.append(feature)"
   ]
  },
  {
   "cell_type": "code",
   "execution_count": null,
   "metadata": {},
   "outputs": [],
   "source": [
    "print(len(features[0]))"
   ]
  },
  {
   "cell_type": "markdown",
   "metadata": {},
   "source": [
    "<b>Salvando os dados no arquivo libsvm</b>"
   ]
  },
  {
   "cell_type": "code",
   "execution_count": null,
   "metadata": {},
   "outputs": [],
   "source": [
    "def geraSVMfile(rotulo, lista_feat, name_file, path_out, modo):\n",
    "    ''''''\n",
    "    arquivo = open(path_out + name_file, modo)\n",
    "    featureFile = str(rotulo) + \" \"\n",
    "    arquivo.write(featureFile)\n",
    "    for i in range(len(lista_feat)-1):\n",
    "        linha = str(str(i + 1) + \":\" + str(lista_feat[i]) + \" \")\n",
    "        #print('linha ', str(i + 1), \" = \", linha)\n",
    "        arquivo.write(linha)\n",
    "    arquivo.write('\\n')\n",
    "    arquivo.close()\n",
    "\n",
    "name = 'VGG16.libsvm'\n",
    "path_file = '/home/vitoria/Área de Trabalho/ICV/SINFO/resultados/'\n",
    "\n",
    "for i in range(len(features)):\n",
    "    classe = features[i][-1]\n",
    "    geraSVMfile(rotulo=classe, lista_feat=features[i], name_file=name, path_out=path_file, modo='a')"
   ]
  },
  {
   "cell_type": "code",
   "execution_count": null,
   "metadata": {},
   "outputs": [],
   "source": [
    "#print('Salvando...')\n",
    "#my_df = pd.DataFrame(features)\n",
    "#my_df.to_csv('/home/vitoria/Área de Trabalho/ICV/SINFO/featuresVGG16.libsvm', index=False, header=False, sep=' ')"
   ]
  },
  {
   "cell_type": "code",
   "execution_count": null,
   "metadata": {},
   "outputs": [],
   "source": []
  },
  {
   "cell_type": "markdown",
   "metadata": {},
   "source": []
  }
 ],
 "metadata": {
  "kernelspec": {
   "display_name": "Python 3",
   "language": "python",
   "name": "python3"
  },
  "language_info": {
   "codemirror_mode": {
    "name": "ipython",
    "version": 3
   },
   "file_extension": ".py",
   "mimetype": "text/x-python",
   "name": "python",
   "nbconvert_exporter": "python",
   "pygments_lexer": "ipython3",
   "version": "3.7.3"
  }
 },
 "nbformat": 4,
 "nbformat_minor": 4
}
